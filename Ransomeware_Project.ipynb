{
  "nbformat": 4,
  "nbformat_minor": 0,
  "metadata": {
    "colab": {
      "name": "Ransomeware-Project.ipynb",
      "provenance": [],
      "collapsed_sections": [],
      "authorship_tag": "ABX9TyPA9ifDHTNrkzaWKK9OPGUk",
      "include_colab_link": true
    },
    "kernelspec": {
      "display_name": "Python 3",
      "name": "python3"
    },
    "language_info": {
      "name": "python"
    }
  },
  "cells": [
    {
      "cell_type": "markdown",
      "metadata": {
        "id": "view-in-github",
        "colab_type": "text"
      },
      "source": [
        "<a href=\"https://colab.research.google.com/github/raneldan/Ransomware-Detection/blob/main/Ransomeware_Project.ipynb\" target=\"_parent\"><img src=\"https://colab.research.google.com/assets/colab-badge.svg\" alt=\"Open In Colab\"/></a>"
      ]
    },
    {
      "cell_type": "code",
      "metadata": {
        "colab": {
          "base_uri": "https://localhost:8080/"
        },
        "id": "HXfevQnHtNsn",
        "outputId": "19cd1f52-7ffd-4983-bcf1-556fcd7c06e3"
      },
      "source": [
        "# Import & Installs\n",
        "from google.colab import drive\n",
        "import os\n",
        "import csv\n",
        "\n",
        "import sys\n",
        "\n",
        "import numpy as np\n",
        "import matplotlib.pyplot as plt\n",
        "import imblearn\n",
        "from imblearn.over_sampling import SMOTE\n",
        "\n",
        "\n",
        "# TensorFlow and tf.keras\n",
        "import tensorflow as tf\n",
        "from tensorflow import keras\n",
        "from tensorflow.keras.layers import Conv2D, MaxPooling2D, Dropout, Flatten, Dense\n",
        "\n",
        "import pandas as pd\n",
        "import seaborn as sns\n",
        "import cv2\n",
        "import IPython\n",
        "from six.moves import urllib\n",
        "\n",
        "\n",
        "\n",
        "\n",
        "drive.mount('/content/gdrive')\n",
        "\n",
        "!sudo pip install imbalanced-learn\n"
      ],
      "execution_count": null,
      "outputs": [
        {
          "output_type": "stream",
          "name": "stdout",
          "text": [
            "Mounted at /content/gdrive\n",
            "Looking in indexes: https://pypi.org/simple, https://us-python.pkg.dev/colab-wheels/public/simple/\n",
            "Requirement already satisfied: imbalanced-learn in /usr/local/lib/python3.7/dist-packages (0.8.1)\n",
            "Requirement already satisfied: scikit-learn>=0.24 in /usr/local/lib/python3.7/dist-packages (from imbalanced-learn) (1.0.2)\n",
            "Requirement already satisfied: scipy>=0.19.1 in /usr/local/lib/python3.7/dist-packages (from imbalanced-learn) (1.4.1)\n",
            "Requirement already satisfied: joblib>=0.11 in /usr/local/lib/python3.7/dist-packages (from imbalanced-learn) (1.1.0)\n",
            "Requirement already satisfied: numpy>=1.13.3 in /usr/local/lib/python3.7/dist-packages (from imbalanced-learn) (1.21.6)\n",
            "Requirement already satisfied: threadpoolctl>=2.0.0 in /usr/local/lib/python3.7/dist-packages (from scikit-learn>=0.24->imbalanced-learn) (3.1.0)\n"
          ]
        }
      ]
    },
    {
      "cell_type": "code",
      "metadata": {
        "id": "Gm4EDy__uItN"
      },
      "source": [
        "# THIS IS THE BASE PATH, ALL OTHER PATHS IS RELATIVE TO THIS ONE\n",
        "# THIS PATH SHOULD BE PRE-EXIST IN GOOGLE DRIVE \n",
        "basePath = \"/content/gdrive/MyDrive/Colab Notebooks/Ransomeware-Project\""
      ],
      "execution_count": null,
      "outputs": []
    },
    {
      "cell_type": "code",
      "metadata": {
        "id": "VdlFFelB7xyb"
      },
      "source": [
        "# Implementation of perceptron classifier \n",
        "\n",
        "def step_func(z):\n",
        "    return 1.0 if (z > 0) else 0.0\n",
        "\n",
        "\n",
        "def perceptron(X, y, lr, epochs):\n",
        "    \n",
        "    # X --> Inputs.\n",
        "    # y --> labels/target.\n",
        "    # lr --> learning rate.\n",
        "    # epochs --> Number of iterations.\n",
        "    \n",
        "    # m-> number of training examples\n",
        "    # n-> number of features \n",
        "    m, n = X.shape\n",
        "\n",
        "    # Initializing parapeters(theta) to zeros.\n",
        "    # +1 in n+1 for the bias term.\n",
        "    theta = np.zeros((n+1,1))\n",
        "    \n",
        "    # Empty list to store how many examples were \n",
        "    # misclassified at every iteration.\n",
        "    n_miss_list = []\n",
        "    \n",
        "    # Training.\n",
        "    for epoch in range(epochs):\n",
        "        \n",
        "        # variable to store #misclassified.\n",
        "        n_miss = 0\n",
        "        \n",
        "        # looping for every example.\n",
        "        for idx, x_i in enumerate(X):\n",
        "            \n",
        "            # Insering 1 for bias, X0 = 1.\n",
        "            x_i = np.insert(x_i, 0, 1).reshape(-1,1)\n",
        "            \n",
        "            # Calculating prediction/hypothesis.\n",
        "            y_hat = step_func(np.dot(x_i.T, theta))\n",
        "            \n",
        "            # Updating if the example is misclassified.\n",
        "            if (np.squeeze(y_hat) - y[idx]) != 0:\n",
        "                theta += lr*((y[idx] - y_hat)*x_i)\n",
        "                \n",
        "                # Incrementing by 1.\n",
        "                n_miss += 1\n",
        "        \n",
        "        # Appending number of misclassified examples\n",
        "        # at every iteration.\n",
        "        n_miss_list.append(n_miss)\n",
        "        \n",
        "    return theta, n_miss_list\n",
        "\n",
        "# This function classify the data with the perceptron classifier\n",
        "def classify(data, theta):\n",
        "  data = np.insert(data, 0, 1).reshape(-1,1)\n",
        "  y_hat = step_func(np.dot(data.T, theta))\n",
        "  return (np.squeeze(y_hat))"
      ],
      "execution_count": null,
      "outputs": []
    },
    {
      "cell_type": "code",
      "metadata": {
        "id": "Etmy81m10vaD"
      },
      "source": [
        " # Function to help visualize  the feature space (only the first 2 features displayed)\n",
        " # I used this function to find and eliminate outliers\n",
        " def plot_decision_boundary(X, theta):\n",
        "    # X --> Inputs\n",
        "    # theta --> parameters\n",
        "    \n",
        "    # The Line is y=mx+c\n",
        "    # So, Equate mx+c = theta0.X0 + theta1.X1 + theta2.X2\n",
        "    # Solving we find m and c\n",
        "    x1 = [min(X[:,0]), max(X[:,0])]\n",
        "    m = -theta[1]/theta[2]\n",
        "    c = -theta[0]/theta[2]\n",
        "    x2 = m*x1 + c\n",
        "\n",
        "    \n",
        "    fig = plt.figure(figsize=(10,8))\n",
        "    plt.ylim([0, 1])\n",
        "    # Legitimate programs are marked as blue squares\n",
        "    plt.plot(X[:, 0][train_labels==0], X[:, 1][train_labels==0], \"bs\")\n",
        "    # Ransomwares are marked as red traingle\n",
        "    plt.plot(X[:, 0][train_labels==1], X[:, 1][train_labels==1], \"r^\")\n",
        "    plt.xlabel(\"feature 1\")\n",
        "    plt.ylabel(\"feature 2\")\n",
        "    plt.title(\"Perceptron Algorithm\")\n",
        "    plt.plot(x1, x2, 'y-')"
      ],
      "execution_count": null,
      "outputs": []
    },
    {
      "cell_type": "code",
      "source": [
        "# Function thats gets listes of files path inside the Google Drive and return just the files name (trim the path)\n",
        "def getFilesNames(files):\n",
        "  result = []\n",
        "  for file in files:\n",
        "    file = file.split('/')\n",
        "    result.append(file[-1])\n",
        "  return result\n",
        "\n",
        "# Fucntion that prints for each files it's name and the features extracted from the file\n",
        "def printFeatures(files, X):\n",
        "  for file, x in zip(files,X):\n",
        "    file = [file]\n",
        "    printFilesName(file)\n",
        "    print(x)\n",
        "\n",
        "# Function that get a path to a files and print its name\n",
        "def printFilesName(files):\n",
        "  for file in files:\n",
        "    file = file.split('/')\n",
        "    print(file[-1])\n",
        "\n",
        "# Help function to count the number of samples used during the training and testing\n",
        "def numberOfSamples(files):\n",
        "  legit = 0\n",
        "  ransomeware = 0\n",
        "  for file in files:\n",
        "    # Ransomewar samples are marked with legit in the file name\n",
        "    if (\"legit\" in file):\n",
        "      legit += 1\n",
        "    else:\n",
        "      ransomeware += 1\n",
        "  return (\"Number of ransomeware samples : {} \\n Number of legit samples : {}\".format(ransomeware, legit))"
      ],
      "metadata": {
        "id": "5WpvUSJtnnmh"
      },
      "execution_count": null,
      "outputs": []
    },
    {
      "cell_type": "code",
      "metadata": {
        "id": "B7RSapU7KFL7"
      },
      "source": [
        "# All of windows API calls are store in a file\n",
        "# This function create a list of all the operations\n",
        "def getOperationList():\n",
        "  operationList = []\n",
        "  operationListFile = basePath + \"/resources/Proc mon operation list.txt\"\n",
        "  with open(operationListFile, \"r\") as f:\n",
        "    for line in f:\n",
        "      line = line.strip('\\n')\n",
        "      operationList.append(line)\n",
        "  return (operationList)"
      ],
      "execution_count": null,
      "outputs": []
    },
    {
      "cell_type": "code",
      "metadata": {
        "id": "CCno1o2CNssg"
      },
      "source": [
        "# Importing the operation list from the file\n",
        "operationList = getOperationList()"
      ],
      "execution_count": null,
      "outputs": []
    },
    {
      "cell_type": "code",
      "metadata": {
        "id": "gItwMwSAGFYG"
      },
      "source": [
        "# FEATURE FUNCTIONS\n",
        "# Each function used to generate a feature\n",
        "\n",
        "# This function recive an operation (as string) and return the enum value associated to it\n",
        "def convertOperationToNum(op):\n",
        "  return operationList.index(op)\n",
        "\n",
        "# Funciton to find the number of unique operation. The input is list of operations. The result is used as a feature.\n",
        "def numOfUniqueOperations(operation):\n",
        "  return (len(set(operation)))\n",
        "\n",
        "# Funciton to find the max time to complete any operation. The input is list of times. The result is used as a feature.\n",
        "def maxCompletionTime(times):\n",
        "  return (max(times,key=lambda x:float(x)))\n",
        "\n",
        "# Funciton to find the mean time to complete operation. The input is list of times. The result is used as a feature.\n",
        "def meanCompletionTime(times):\n",
        "  return(np.mean(times))\n",
        "\n",
        "# Funciton to find the ratio of successful operations vs failed operations. The input is list of the results of the operations. The result is used as a feature.\n",
        "def percentageOfFailedResult(results):\n",
        "  return(results.count(\"SUCCESS\")/len(results))\n",
        "\n",
        "# Funciton to find the ratio of I/O operations from all the opertaions. The input is list of the results of the operations. The result is used as a feature.\n",
        "def percentageOfIOEventClass(classes):\n",
        "  return(classes.count(\"File System\")/len(classes))\n",
        "\n",
        "# Funciton to find the total amount of operations recorded. The input is list of the results of the operations. The result is used as a feature.\n",
        "def numOfOperations(operation):\n",
        "  return (len(operation))\n",
        "\n",
        "# Generic function that recieve an operation and find the ratio of the operation in the operation list\n",
        "def percentOfOperation(operation, operationToSearch):\n",
        "  sum = 0\n",
        "  for op in operation:\n",
        "    if (op == operationToSearch):\n",
        "      sum += 1\n",
        "  return (sum/len(operation))"
      ],
      "execution_count": null,
      "outputs": []
    },
    {
      "cell_type": "code",
      "metadata": {
        "id": "lW9WrPQXXYEu"
      },
      "source": [
        "# This function create the correct tags for all the files in the given path\n",
        "def createTags(files):\n",
        "  y = []\n",
        "  for file in files:\n",
        "    # samples tagged legit in the file name if they normal programs. otherwise - the tag is ransomeware\n",
        "    if (\"legit\" in file):\n",
        "      y.append(0)\n",
        "    else:\n",
        "      y.append(1)\n",
        "  return(np.array(y))\n",
        "  \n",
        "# Function that compare the predictions of the classifier vs the true lables and returns the accuracy\n",
        "def compareTags(prediction, truth):\n",
        "  numOfMisMatch = 0\n",
        "  for p,t in zip(prediction, truth):\n",
        "    if (p != t):\n",
        "      numOfMisMatch += 1\n",
        "  return ((len(prediction) - numOfMisMatch) / len(prediction))"
      ],
      "execution_count": null,
      "outputs": []
    },
    {
      "cell_type": "code",
      "metadata": {
        "id": "pYuAl-W1R6DU"
      },
      "source": [
        "# This function extract the features from the given files.\n",
        "# We iterate file by file and create vectors (opertion, times, etc..) of the events that stored in the file.\n",
        "# Later, we used the previous functions to create features from this vectors.\n",
        "def extractFeatures(files):\n",
        "  NUM_OF_SAMPLES = len(files)\n",
        "  X = np.zeros([NUM_OF_SAMPLES, NUM_OF_FEATURES], dtype=float)\n",
        "  for index,file in enumerate(files):\n",
        "    with open(file, \"r\") as f:\n",
        "      reader = csv.reader(f, delimiter=\",\")\n",
        "      operations = [] \n",
        "      times = []\n",
        "      results = []\n",
        "      classes = []\n",
        "      for i, line in enumerate(reader):\n",
        "        # skip first line because it contains headers\n",
        "        if (i != 0 and len(line) > 2):\n",
        "          operations.append(convertOperationToNum(line[3]))\n",
        "          results.append(line[5])\n",
        "          # edge cases where data is curropted\n",
        "          if (len(line) >= 8):\n",
        "            times.append(float(line[7]))\n",
        "            classes.append(line[8])\n",
        "          else:\n",
        "            # fill it with default values\n",
        "              times.append(0.0)\n",
        "              classes.append(\"\")\n",
        "\n",
        "    # fill feature matrix with data\n",
        "    X[index][0] = numOfUniqueOperations(operations)\n",
        "    X[index][1] = percentageOfFailedResult(results)\n",
        "    X[index][2] = maxCompletionTime(times)\n",
        "    X[index][3] = meanCompletionTime(times)\n",
        "    X[index][4] = percentageOfIOEventClass(classes)\n",
        "    #X[index][5] = numOfOperations(operations)\n",
        "    X[index][5] = percentOfOperation(operations, 6) # LOAD_IMAGE = 6\n",
        "    X[index][6] = percentOfOperation(operations, 18) # QUERY_DIR = 18\n",
        "\n",
        "  return X"
      ],
      "execution_count": null,
      "outputs": []
    },
    {
      "cell_type": "code",
      "metadata": {
        "colab": {
          "base_uri": "https://localhost:8080/",
          "height": 1000
        },
        "id": "HWcju45o3x30",
        "outputId": "9133fc91-615b-45e2-e544-cbfb3a986eb1"
      },
      "source": [
        "# Training process #\n",
        "\n",
        "trainPath = basePath + '/train/'\n",
        "# Constant that hold dim of the feature vector\n",
        "NUM_OF_FEATURES = 7\n",
        "files = [trainPath + x for x in os.listdir(trainPath)]\n",
        "train_features = extractFeatures(files) \n",
        "# Formating for printing purpose\n",
        "np.set_printoptions(formatter={\"float_kind\": lambda x: \"%g\" % x})\n",
        "# Creating the tags of the samples\n",
        "train_labels = createTags(files)\n",
        "# Normalize the features \n",
        "#train_mean = np.mean(train_features, axis=0)\n",
        "#train_std = np.std(train_features, axis=0)\n",
        "#train_features = (train_features - train_mean) / train_std\n",
        "# Debug\n",
        "printFeatures(files, train_features)\n",
        "print(train_labels)\n",
        "print(numberOfSamples(files))\n",
        "# Run the perceptron on the data\n",
        "T, ml = perceptron(train_features, train_labels, 0.05, 100000)\n",
        "print(\"Accuracy on train set\", (len(files)-ml[-1])/len(files))\n",
        "# Print the graph of the samples and features\n",
        "plot_decision_boundary(train_features, T)\n",
        "\n"
      ],
      "execution_count": null,
      "outputs": [
        {
          "output_type": "stream",
          "name": "stdout",
          "text": [
            "Logfile visual studio code legit.CSV\n",
            "[60 0.759558 178.667 0.0111424 0.46288 0.00545567 0.0261425]\n",
            "Logfile cerber extended.CSV\n",
            "[37 0.89423 0.11332 0.000135277 0.880322 0.000426597 0.0197314]\n",
            "Logfile permier crack.CSV\n",
            "[32 0.938132 0.04787 1.86409e-05 0.944496 0.000763714 0.0576422]\n",
            "Logfile sick.CSV\n",
            "[26 0.852461 3.3116 0.000942415 0.981292 0.000288133 0.17931]\n",
            "Logfile bagli.CSV\n",
            "[36 0.863276 0.0320758 3.36147e-05 0.666776 0.00155853 0.0332068]\n",
            "Logfile - acuna.CSV\n",
            "[42 0.870575 0.276149 0.000233768 0.953814 0.00085765 0.294449]\n",
            "Logfile note legit.CSV\n",
            "[48 0.758325 0.0479386 1.32607e-05 0.147229 0.00187077 0.00160886]\n",
            "Logfile conti.CSV\n",
            "[38 0.887073 0.161508 5.5443e-05 0.990537 6.58039e-05 0.0888943]\n",
            "Logfile 2048 legit.CSV\n",
            "[51 0.863189 0.404901 2.68658e-05 0.659916 0.0036836 0.00230663]\n",
            "Logfile armagedon legit.CSV\n",
            "[40 0.712366 0.0106505 7.96324e-06 0.335403 0.0029259 0.00740431]\n",
            "Logfile nefilim.CSV\n",
            "[27 0.936441 0.515118 0.000107011 0.997124 0.000104665 0.0305676]\n",
            "Logfile wannacry.CSV\n",
            "[39 0.854929 0.291037 0.000160773 0.619474 0.0139754 0.000303813]\n",
            "Logfile paint legit.CSV\n",
            "[46 0.715177 0.134502 1.77464e-05 0.075699 0.00155718 0.00146676]\n",
            "Logfile git legit.CSV\n",
            "[26 0.678883 0.0038075 1.07995e-05 0.314834 0.01274 0.0411867]\n",
            "Logfile renamer legit.CSV\n",
            "[39 0.737926 0.0125083 1.0404e-05 0.0854434 0.00171634 0.0015804]\n",
            "Logfile sodinokibi.CSV\n",
            "[38 0.912078 0.935733 0.00443519 0.7865 0.00544655 0.0243178]\n",
            "Logfile darkside.CSV\n",
            "[43 0.936355 5.42672 0.0131195 0.974767 0.000838136 0.0229863]\n",
            "Logfile sodinokibi 2nd version.CSV\n",
            "[39 0.919986 2.60747 0.0114754 0.913597 0.000455937 0.0266812]\n",
            "Logfile conti2.CSV\n",
            "[37 0.979161 0.291562 0.000110362 0.991918 7.70283e-05 0.056545]\n",
            "Logfile nooa.CSV\n",
            "[36 0.826265 0.145635 8.30825e-05 0.407795 0.000599935 0.0357269]\n",
            "Logfile blackmatter2.CSV\n",
            "[47 0.927796 7.33801 0.0174039 0.974466 0.000275346 0.0145522]\n",
            "Logfile nooa2.CSV\n",
            "[44 0.824307 0.144125 5.42947e-05 0.37557 0.00113554 0.025447]\n",
            "Logfile CrystalDiskInfo legit.CSV\n",
            "[43 0.753912 0.0242085 1.03965e-05 0.239743 0.00203408 0.00154729]\n",
            "Logfile Celestia legit.CSV\n",
            "[26 0.774211 0.0130627 2.6381e-05 0.357364 0.00517249 0.00928278]\n",
            "Logfile vipasana.CSV\n",
            "[35 0.995374 0.0289078 2.4729e-06 0.988093 7.21925e-05 8.8174e-06]\n",
            "Logfile darkside3.CSV\n",
            "[31 0.89499 0.27059 9.94703e-05 0.970801 0.000225526 0.0386816]\n",
            "Logfile emsisoft av legit.CSV\n",
            "[40 0.653166 0.386673 1.08373e-05 0.143726 0 0.00315885]\n",
            "Logfile file analyzer legit.CSV\n",
            "[49 0.960554 0.0229129 3.71959e-06 0.868229 0.000288874 0.000375204]\n",
            "Logfile spots legit.CSV\n",
            "[37 0.730325 0.015345 1.10031e-05 0.0559664 0.00151186 0.00122323]\n",
            "Logfile iconfx legit.CSV\n",
            "[40 0.779442 0.0510616 8.1676e-06 0.251869 0.000937616 0.0018026]\n",
            "Logfile litcoin legit.CSV\n",
            "[41 0.73699 0.0058021 1.22289e-05 0.434382 0.00463945 0.00240964]\n",
            "Logfile goorila password legit.CSV\n",
            "[43 0.871983 0.0245488 9.16919e-06 0.687538 0.00110455 0.0959298]\n",
            "[0 1 1 1 1 1 0 1 0 0 1 1 0 0 0 1 1 1 1 1 1 1 0 0 1 1 0 0 0 0 0 0]\n",
            "Number of ransomeware samples : 17 \n",
            " Number of legit samples : 15\n",
            "Accuracy on train set 0.875\n"
          ]
        },
        {
          "output_type": "display_data",
          "data": {
            "text/plain": [
              "<Figure size 720x576 with 1 Axes>"
            ],
            "image/png": "[encoded data removed]"
          },
          "metadata": {
            "needs_background": "light"
          }
        }
      ]
    },
    {
      "cell_type": "code",
      "metadata": {
        "id": "JCI5NasHSoUA",
        "colab": {
          "base_uri": "https://localhost:8080/"
        },
        "outputId": "aaa1b221-08df-43d4-85ca-3d5731ed779e"
      },
      "source": [
        "# Testing process #\n",
        "\n",
        "# This process is almost identical to the training process\n",
        "testPath = basePath + '/test/'\n",
        "files = [testPath + x for x in os.listdir(testPath)]\n",
        "printFilesName(files)\n",
        "test_features = extractFeatures(files)\n",
        "# Normalize the features \n",
        "#train_mean = np.mean(train_features, axis=0)\n",
        "#train_std = np.std(train_features, axis=0)\n",
        "#train_features = (train_features - train_mean) / train_std\n",
        "print(test_features)\n",
        "print(numberOfSamples(files))\n",
        "predictions = []\n",
        "test_labels = createTags(files)\n",
        "\n",
        "for testFile in test_features:\n",
        "  predictionResult = classify(testFile,T)\n",
        "  predictions.append(predictionResult)\n",
        "  print(predictionResult)\n",
        "print(\"Accuracy on test set\" , compareTags(predictions, test_labels))"
      ],
      "execution_count": null,
      "outputs": [
        {
          "output_type": "stream",
          "name": "stdout",
          "text": [
            "Logfile duplicate files legit.CSV\n",
            "Logfile atomic tanks legit.CSV\n",
            "Logfile mincraft.CSV\n",
            "Logfile blackmatter.CSV\n",
            "Logfile CrystalDiskMark legit.CSV\n",
            "Logfile cryptolocker.CSV\n",
            "Logfile wannacry2.CSV\n",
            "Logfile babuk locker.CSV\n",
            "Logfile revil kaseya.CSV\n",
            "Logfile darkside2.CSV\n",
            "Logfile tocan legit.CSV\n",
            "Logfile chess legit.CSV\n",
            "Logfile audacity legit.CSV\n",
            "Logfile camstudio legit.CSV\n",
            "Logfile diskcleaner legit.CSV\n",
            "[[27 0.741505 0.0870234 6.49595e-05 0.185376 0.00283989 0.050661]\n",
            " [26 0.869868 0.0037301 1.69985e-05 0.569229 0.00843978 0.00228102]\n",
            " [41 0.954144 0.132837 1.08603e-05 0.851539 0.000122234 1.40624e-05]\n",
            " [42 0.929382 15.7309 0.0618691 0.987602 0.000230777 0.0147377]\n",
            " [44 0.790272 4.83323 0.000751027 0.459496 0.00203449 0.00082619]\n",
            " [40 0.83175 0.271699 9.87844e-05 0.973855 9.96561e-05 0.338589]\n",
            " [36 0.795911 0.276881 0.00011237 0.941972 0.000116343 0.0663387]\n",
            " [35 0.942045 0.842547 0.000915549 0.874541 0.000474181 0.0492153]\n",
            " [41 0.903057 1.63557 0.00613739 0.883002 0.000478087 0.0274506]\n",
            " [30 0.897735 0.953601 0.000461494 0.971548 0.000114477 0.0371452]\n",
            " [45 0.858874 0.0603717 1.30561e-05 0.557775 0.000541696 0.0254524]\n",
            " [38 0.734811 0.0531849 2.64858e-05 0.0768468 0.00160068 0.00127488]\n",
            " [49 0.850754 0.117118 1.01578e-05 0.507706 0.000276224 0.00193496]\n",
            " [46 0.74251 0.0171275 2.11546e-05 0.122253 0.00198271 0.000922509]\n",
            " [45 0.789478 0.01147 1.38633e-05 0.201955 0.00198156 0.0133792]]\n",
            "Number of ransomeware samples : 7 \n",
            " Number of legit samples : 8\n",
            "0.0\n",
            "1.0\n",
            "0.0\n",
            "0.0\n",
            "0.0\n",
            "1.0\n",
            "1.0\n",
            "1.0\n",
            "0.0\n",
            "1.0\n",
            "0.0\n",
            "0.0\n",
            "0.0\n",
            "0.0\n",
            "0.0\n",
            "Accuracy on test set 0.7333333333333333\n"
          ]
        }
      ]
    },
    {
      "cell_type": "code",
      "source": [
        "# Create syntetic samples using SMOTE\n",
        "oversample = SMOTE(random_state=0)\n",
        "train_features, train_labels = oversample.fit_resample(train_features, train_labels)\n",
        "# Normalize the features \n",
        "train_mean = np.mean(train_features, axis=0)\n",
        "train_std = np.std(train_features, axis=0)\n",
        "train_features_norm = (train_features - train_mean) / train_std"
      ],
      "metadata": {
        "id": "5drfEjKuM1M7"
      },
      "execution_count": null,
      "outputs": []
    },
    {
      "cell_type": "code",
      "source": [
        "# This funciton create the network \n",
        "def build_model():\n",
        "    model = keras.Sequential([\n",
        "        Dense(100, activation=tf.nn.relu, input_shape=[NUM_OF_FEATURES]),\n",
        "        Dense(1)\n",
        "    ])\n",
        "\n",
        "    model.compile(optimizer = tf.optimizers.Adam(), \n",
        "                  loss = tf.keras.losses.BinaryCrossentropy(from_logits=True),\n",
        "                  metrics = tf.keras.metrics.BinaryAccuracy())\n",
        "    return model\n",
        "\n",
        "# This helps makes our output less verbose but still shows progress\n",
        "class PrintDot(keras.callbacks.Callback):\n",
        "    def on_epoch_end(self, epoch, logs):\n",
        "        if epoch % 100 == 0: print('')\n",
        "        print('.', end='')\n",
        "\n",
        "model = build_model()\n",
        "# Debug\n",
        "print(model.summary())\n",
        "print(len(model.layers))\n",
        "\n",
        "# Regulate the model complexity using early stop method to prevent overfitting\n",
        "early_stop = keras.callbacks.EarlyStopping(monitor='val_loss', patience=7, min_delta=0.0001)\n",
        "history = model.fit(train_features_norm, train_labels, epochs=1000, verbose=0, validation_split = 0.2,\n",
        "                    callbacks=[early_stop, PrintDot()])\n",
        "\n",
        "hist = pd.DataFrame(history.history)\n",
        "hist['epoch'] = history.epoch\n",
        "print()\n",
        "print(hist)\n",
        "\n",
        "# Print the result of the traning\n",
        "def plot_history():\n",
        "    plt.figure()\n",
        "    plt.xlabel('Epoch')\n",
        "    plt.ylabel('Error')\n",
        "    plt.plot(hist['epoch'], 1-hist['binary_accuracy'], label='Train Error')\n",
        "    plt.plot(hist['epoch'], 1-hist['val_binary_accuracy'], label = 'Val Error')\n",
        "    plt.legend()\n",
        "    plt.ylim([0,1])\n",
        "\n",
        "plot_history()"
      ],
      "metadata": {
        "id": "IgJrC5OuM8RE",
        "colab": {
          "base_uri": "https://localhost:8080/",
          "height": 1000
        },
        "outputId": "a34cdaf5-803e-4164-892d-90a781649961"
      },
      "execution_count": null,
      "outputs": [
        {
          "output_type": "stream",
          "name": "stdout",
          "text": [
            "Model: \"sequential\"\n",
            "_________________________________________________________________\n",
            " Layer (type)                Output Shape              Param #   \n",
            "=================================================================\n",
            " dense (Dense)               (None, 100)               800       \n",
            "                                                                 \n",
            " dense_1 (Dense)             (None, 1)                 101       \n",
            "                                                                 \n",
            "=================================================================\n",
            "Total params: 901\n",
            "Trainable params: 901\n",
            "Non-trainable params: 0\n",
            "_________________________________________________________________\n",
            "None\n",
            "2\n",
            "\n",
            "............................................................\n",
            "        loss  binary_accuracy  val_loss  val_binary_accuracy  epoch\n",
            "0   0.670913         0.370370  0.720541             1.000000      0\n",
            "1   0.657231         0.370370  0.717227             1.000000      1\n",
            "2   0.643809         0.370370  0.714088             1.000000      2\n",
            "3   0.630656         0.407407  0.711121             1.000000      3\n",
            "4   0.617799         0.407407  0.708236             1.000000      4\n",
            "5   0.605197         0.444444  0.705324             1.000000      5\n",
            "6   0.592881         0.444444  0.702457             1.000000      6\n",
            "7   0.580840         0.481481  0.699663             1.000000      7\n",
            "8   0.569112         0.518519  0.696913             1.000000      8\n",
            "9   0.557710         0.629630  0.694154             1.000000      9\n",
            "10  0.546611         0.666667  0.691415             1.000000     10\n",
            "11  0.535842         0.740741  0.688771             1.000000     11\n",
            "12  0.525368         0.777778  0.686203             1.000000     12\n",
            "13  0.515157         0.814815  0.683677             0.857143     13\n",
            "14  0.505203         0.814815  0.681219             0.857143     14\n",
            "15  0.495529         0.814815  0.678820             0.857143     15\n",
            "16  0.486114         0.814815  0.676498             0.857143     16\n",
            "17  0.476937         0.814815  0.674216             0.857143     17\n",
            "18  0.468048         0.814815  0.671983             0.857143     18\n",
            "19  0.459429         0.851852  0.669768             0.857143     19\n",
            "20  0.451051         0.851852  0.667634             0.857143     20\n",
            "21  0.442883         0.851852  0.665468             0.857143     21\n",
            "22  0.434931         0.851852  0.663331             0.857143     22\n",
            "23  0.427179         0.851852  0.661249             0.857143     23\n",
            "24  0.419632         0.851852  0.659267             0.857143     24\n",
            "25  0.412278         0.851852  0.657360             0.857143     25\n",
            "26  0.405125         0.851852  0.655518             0.857143     26\n",
            "27  0.398157         0.888889  0.653762             0.857143     27\n",
            "28  0.391388         0.888889  0.652058             0.857143     28\n",
            "29  0.384787         0.888889  0.650362             0.857143     29\n",
            "30  0.378384         0.888889  0.648738             0.714286     30\n",
            "31  0.372158         0.888889  0.647177             0.714286     31\n",
            "32  0.366100         0.888889  0.645676             0.714286     32\n",
            "33  0.360188         0.888889  0.644230             0.714286     33\n",
            "34  0.354427         0.888889  0.642802             0.714286     34\n",
            "35  0.348806         0.888889  0.641391             0.714286     35\n",
            "36  0.343324         0.888889  0.640088             0.714286     36\n",
            "37  0.337984         0.888889  0.638861             0.714286     37\n",
            "38  0.332792         0.888889  0.637758             0.714286     38\n",
            "39  0.327729         0.888889  0.636741             0.714286     39\n",
            "40  0.322795         0.888889  0.635807             0.714286     40\n",
            "41  0.317971         0.888889  0.634963             0.714286     41\n",
            "42  0.313264         0.888889  0.634195             0.714286     42\n",
            "43  0.308667         0.888889  0.633479             0.714286     43\n",
            "44  0.304173         0.888889  0.632762             0.714286     44\n",
            "45  0.299785         0.888889  0.632100             0.714286     45\n",
            "46  0.295505         0.888889  0.631516             0.714286     46\n",
            "47  0.291329         0.888889  0.631016             0.714286     47\n",
            "48  0.287254         0.888889  0.630609             0.714286     48\n",
            "49  0.283275         0.888889  0.630277             0.714286     49\n",
            "50  0.279382         0.888889  0.630027             0.714286     50\n",
            "51  0.275580         0.888889  0.629853             0.714286     51\n",
            "52  0.271861         0.888889  0.629748             0.714286     52\n",
            "53  0.268238         0.888889  0.629720             0.714286     53\n",
            "54  0.264704         0.888889  0.629771             0.714286     54\n",
            "55  0.261251         0.888889  0.629905             0.714286     55\n",
            "56  0.257874         0.888889  0.630116             0.714286     56\n",
            "57  0.254565         0.888889  0.630391             0.714286     57\n",
            "58  0.251344         0.888889  0.630729             0.714286     58\n",
            "59  0.248196         0.888889  0.631127             0.714286     59\n"
          ]
        },
        {
          "output_type": "display_data",
          "data": {
            "text/plain": [
              "<Figure size 432x288 with 1 Axes>"
            ],
            "image/png": "[encoded data removed]"
          },
          "metadata": {
            "needs_background": "light"
          }
        }
      ]
    },
    {
      "cell_type": "code",
      "source": [
        "# Get the prediction for the testing set and output the accuracy\n",
        "test_features_norm = (test_features - train_mean) / train_std\n",
        "mse, _ = model.evaluate(test_features_norm, test_labels)"
      ],
      "metadata": {
        "id": "7DFCcuKBShVO",
        "colab": {
          "base_uri": "https://localhost:8080/"
        },
        "outputId": "3f1d2d54-ea22-4b6c-aea3-cbb8b39974b8"
      },
      "execution_count": null,
      "outputs": [
        {
          "output_type": "stream",
          "name": "stdout",
          "text": [
            "1/1 [==============================] - 0s 18ms/step - loss: 0.3251 - binary_accuracy: 0.9333\n"
          ]
        }
      ]
    },
    {
      "cell_type": "code",
      "source": [
        "\n",
        "from sklearn.ensemble import RandomForestRegressor\n",
        "\n",
        "from sklearn.ensemble import RandomForestClassifier\n",
        "from sklearn.model_selection import train_test_split\n",
        "from sklearn.metrics import roc_auc_score\n",
        "from sklearn import metrics\n",
        "from sklearn.metrics import classification_report, confusion_matrix, accuracy_score"
      ],
      "metadata": {
        "id": "-sXxxTmNRzBx"
      },
      "execution_count": null,
      "outputs": []
    },
    {
      "cell_type": "code",
      "source": [
        "0\n",
        "regressor = RandomForestClassifier(n_estimators=2, random_state=42)\n",
        "regressor.fit(train_features, train_labels)\n",
        "y_pred = regressor.predict(test_features)"
      ],
      "metadata": {
        "id": "fCfeC41rR1jo"
      },
      "execution_count": null,
      "outputs": []
    },
    {
      "cell_type": "code",
      "source": [
        "print('Mean Absolute Error:', metrics.mean_absolute_error(test_labels, y_pred))\n",
        "print('Mean Squared Error:', metrics.mean_squared_error(test_labels, y_pred))\n",
        "print('Root Mean Squared Error:', np.sqrt(metrics.mean_squared_error(test_labels, y_pred)))\n",
        "\n",
        "print (y_pred)\n",
        "print(classification_report(test_labels,y_pred))\n",
        "print(accuracy_score(test_labels, y_pred))"
      ],
      "metadata": {
        "id": "YHkbyn5uR26I",
        "colab": {
          "base_uri": "https://localhost:8080/"
        },
        "outputId": "ba8bd0b4-f3db-4597-ab7e-3201f09d1de1"
      },
      "execution_count": null,
      "outputs": [
        {
          "output_type": "stream",
          "name": "stdout",
          "text": [
            "Mean Absolute Error: 0.13333333333333333\n",
            "Mean Squared Error: 0.13333333333333333\n",
            "Root Mean Squared Error: 0.3651483716701107\n",
            "[0 0 0 1 0 1 1 1 1 1 1 0 0 0 0]\n",
            "              precision    recall  f1-score   support\n",
            "\n",
            "           0       0.88      0.88      0.88         8\n",
            "           1       0.86      0.86      0.86         7\n",
            "\n",
            "    accuracy                           0.87        15\n",
            "   macro avg       0.87      0.87      0.87        15\n",
            "weighted avg       0.87      0.87      0.87        15\n",
            "\n",
            "0.8666666666666667\n"
          ]
        }
      ]
    },
    {
      "cell_type": "code",
      "source": [
        "from sklearn import svm\n",
        "svmClassifier = svm.NuSVC()\n",
        "svmClassifier.fit(train_features, train_labels)\n",
        "y_pred = svmClassifier.predict(test_features)\n",
        "print (y_pred)\n",
        "print(classification_report(test_labels,y_pred))\n",
        "print(accuracy_score(test_labels, y_pred))"
      ],
      "metadata": {
        "id": "0rnauCn5R4op",
        "colab": {
          "base_uri": "https://localhost:8080/"
        },
        "outputId": "71f1f6ee-81d7-4130-9097-89709405aebc"
      },
      "execution_count": null,
      "outputs": [
        {
          "output_type": "stream",
          "name": "stdout",
          "text": [
            "[0 0 0 1 1 1 1 1 1 1 0 0 0 0 0]\n",
            "              precision    recall  f1-score   support\n",
            "\n",
            "           0       0.88      0.88      0.88         8\n",
            "           1       0.86      0.86      0.86         7\n",
            "\n",
            "    accuracy                           0.87        15\n",
            "   macro avg       0.87      0.87      0.87        15\n",
            "weighted avg       0.87      0.87      0.87        15\n",
            "\n",
            "0.8666666666666667\n"
          ]
        }
      ]
    }
  ]
}